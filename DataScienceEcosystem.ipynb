{
 "cells": [
  {
   "cell_type": "markdown",
   "id": "e049444a-e93d-4630-863f-3e9e4c7a0b87",
   "metadata": {},
   "source": [
    "# Data Science Tools and Ecosystem"
   ]
  },
  {
   "cell_type": "markdown",
   "id": "99c4686b-cdcc-410b-aed4-fcc213c5dcb7",
   "metadata": {},
   "source": [
    "In this notebook, Data Sicence Tool and Ecosystems are summarized."
   ]
  },
  {
   "cell_type": "markdown",
   "id": "5d3c68ed-7a8c-4031-af12-26756e400ee8",
   "metadata": {},
   "source": [
    "Some of the popular languages that Data Scientitst use are:\n",
    "1. Python\n",
    "2. R\n",
    "3. SQL"
   ]
  },
  {
   "cell_type": "markdown",
   "id": "cdc1d269-7384-47bb-b500-ec4cfbc4ee0e",
   "metadata": {},
   "source": [
    "Some of the commonly used libraries used by Data Scientists include:\n",
    "1. Pandas\n",
    "2. NumPy\n",
    "3. TensorFlow"
   ]
  },
  {
   "cell_type": "markdown",
   "id": "af3574a4-1c3e-44ee-97f5-a7f9417ff5fa",
   "metadata": {},
   "source": [
    "| Data Science Tools |\n",
    "|--------------------|\n",
    "| Jupyter Notebook   |\n",
    "| RStudio            |\n",
    "| Python   |"
   ]
  },
  {
   "cell_type": "markdown",
   "id": "c6451369-3654-4e73-ba7c-7bbb86b9a4c1",
   "metadata": {},
   "source": [
    "### Below are a few examples of evaluating arithmetic expressions in Python"
   ]
  },
  {
   "cell_type": "code",
   "execution_count": 1,
   "id": "fddb6a13-531d-4122-b272-0eca3b433df5",
   "metadata": {},
   "outputs": [
    {
     "data": {
      "text/plain": [
       "17"
      ]
     },
     "execution_count": 1,
     "metadata": {},
     "output_type": "execute_result"
    }
   ],
   "source": [
    "(3*4)+5"
   ]
  },
  {
   "cell_type": "code",
   "execution_count": 4,
   "id": "48810eda-f838-4128-a493-c2bf030bb94a",
   "metadata": {},
   "outputs": [
    {
     "data": {
      "text/plain": [
       "3.33"
      ]
     },
     "execution_count": 4,
     "metadata": {},
     "output_type": "execute_result"
    }
   ],
   "source": [
    "#  This will convert 200 minutes to hours by diving by 60\n",
    "round(200/60,2)"
   ]
  },
  {
   "cell_type": "markdown",
   "id": "3076eb6c-313b-4cc3-ac9b-8a35e693cf3a",
   "metadata": {},
   "source": [
    "__Objectives:__\n",
    "* Markdown\n",
    "* Running Code\n",
    "* Using stupid file names\n",
    "* Taking screenshots like an idiot\n",
    "* This list"
   ]
  },
  {
   "cell_type": "markdown",
   "id": "7499810b-5174-4249-9e15-0f5cf1195d12",
   "metadata": {},
   "source": [
    "## Author\n",
    "Zain Naboulsi"
   ]
  }
 ],
 "metadata": {
  "kernelspec": {
   "display_name": "Python 3 (ipykernel)",
   "language": "python",
   "name": "python3"
  },
  "language_info": {
   "codemirror_mode": {
    "name": "ipython",
    "version": 3
   },
   "file_extension": ".py",
   "mimetype": "text/x-python",
   "name": "python",
   "nbconvert_exporter": "python",
   "pygments_lexer": "ipython3",
   "version": "3.11.3"
  }
 },
 "nbformat": 4,
 "nbformat_minor": 5
}
